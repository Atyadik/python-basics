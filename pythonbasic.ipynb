{
  "nbformat": 4,
  "nbformat_minor": 0,
  "metadata": {
    "colab": {
      "provenance": []
    },
    "kernelspec": {
      "name": "python3",
      "display_name": "Python 3"
    },
    "language_info": {
      "name": "python"
    }
  },
  "cells": [
    {
      "cell_type": "markdown",
      "source": [
        "# **python basics**"
      ],
      "metadata": {
        "id": "Gn9iz01dzNPg"
      }
    },
    {
      "cell_type": "markdown",
      "source": [
        "1. What is Python, and why is it popular\n",
        "\n",
        "->python is a programming langauge through which we give instructruction to machines to make them follow.\n",
        "  it is popular bcz it has large no of libraries and active community compare to other programming langauge. It is easy to learn versatile databases.It makes easy in data industry because of availibility of libraries and used for automation image processing  etc.\n"
      ],
      "metadata": {
        "id": "n32Oq1omzXFh"
      }
    },
    {
      "cell_type": "markdown",
      "source": [],
      "metadata": {
        "id": "R8RNpxr612TE"
      }
    },
    {
      "cell_type": "markdown",
      "source": [
        "2. What is an interpreter in Python ?\n",
        "\n",
        "-> An interpreter is nothing but a program that execute code line by line of python or translate each statement such that machine can understand it.interpreter work in real-time, alowing for immediate execution."
      ],
      "metadata": {
        "id": "ZI__h6BB15NE"
      }
    },
    {
      "cell_type": "markdown",
      "source": [
        "   3. What are pre-defined keywords in Python?\n",
        "\n",
        "->keywords are nothing but some pre-defined words that holds a special meaning and have a special purpose in the python langauge. Example like input->it take input from user , type-> it will so the type of variable whether it is int float or string\n"
      ],
      "metadata": {
        "id": "FTxNmSq43K8X"
      }
    },
    {
      "cell_type": "markdown",
      "source": [
        "  4. Can keywords be used as variable names ?\n",
        "  \n",
        "  -> No we cannnot use keywords as a variable names."
      ],
      "metadata": {
        "id": "TkuoLLJV4fS7"
      }
    },
    {
      "cell_type": "markdown",
      "source": [],
      "metadata": {
        "id": "ecNBStDKp1Mb"
      }
    },
    {
      "cell_type": "markdown",
      "source": [
        "5.  What is mutability in Python ?\n",
        "\n",
        "-> Mutability in python means that a value or object can be changed after it is created or not."
      ],
      "metadata": {
        "id": "d9b53Tb_4wRj"
      }
    },
    {
      "cell_type": "markdown",
      "source": [
        "  6. Why are lists mutable, but tuples are immutable ?\n",
        "\n",
        "  ->list is mutable after we acces the object that is in square brackets but tupple are not mutable as it is in prantheses ."
      ],
      "metadata": {
        "id": "HMMkmk-S5JSt"
      }
    },
    {
      "cell_type": "markdown",
      "source": [
        " 7. What is the difference between “==” and “is” operators in Python ?\n",
        "\n",
        " -> \"==\" is a comparision operator which compare the value of 2 objects are equal or not.\n",
        "   while \"is\" a identity operator compare the location of 2 objects or variable"
      ],
      "metadata": {
        "id": "GRHAWCiJ6XQp"
      }
    },
    {
      "cell_type": "markdown",
      "source": [
        "  8. What are logical operators in Python ?\n",
        "\n",
        "  -> logical operator in python are used to combine the conditional statements to give either TRUE or FALSE value which refer to 1 or 0. There are two types of logical operator 1st is and 2nd is or"
      ],
      "metadata": {
        "id": "DxbN7eDd7kGf"
      }
    },
    {
      "cell_type": "markdown",
      "source": [
        " 9. What is type casting in Python ?\n",
        "\n",
        " -> It is a type of conversion or process of changing a variable's data type to any other form as we need."
      ],
      "metadata": {
        "id": "Mu88FvDP8muB"
      }
    },
    {
      "cell_type": "markdown",
      "source": [
        " 10. What is the difference between implicit and explicit type casting ?\n",
        "\n",
        " -> implicit type casting is automatically done by python if needed like adding a integer and float then pyhton converts integer into float before adding.\n",
        "   while explicit type casting is done mannually by the user in time of need like converting integer into string etc."
      ],
      "metadata": {
        "id": "6WoLGURO8615"
      }
    },
    {
      "cell_type": "markdown",
      "source": [
        " 11.  What is the purpose of conditional statements in Python ?\n",
        "\n",
        " -> Purpose of conditional statement in python are 1.proceed execution of code in different input or situation.\n",
        " 2.decide which code to run next\n",
        " 3.like in some cases we only need some specific code to execute while other are not in use\n",
        " 4.easier to understand cleary showing different path of execution\n"
      ],
      "metadata": {
        "id": "UzQcATrBi8Lm"
      }
    },
    {
      "cell_type": "markdown",
      "source": [
        " 12. How does the elif statement work ?\n",
        "\n",
        " ->elif is short form of else if so this block of code will be executed only if condtion is true ."
      ],
      "metadata": {
        "id": "_nvRyItRkqUu"
      }
    },
    {
      "cell_type": "markdown",
      "source": [
        " 13. What is the difference between for and while loops ?\n",
        "\n",
        " -> 1. For loop- It primarily used to iterate over iteratble object and uses when no. of iteration is already known in advance or have to perform a task fix no of time. After each iteration loop variable automatically takes next value.\n",
        "  2. While loop- It repeat the code as long as specified condition remains true.\n",
        "  it use also when no of repetion is not known in prior.After each repeatition it require mannual change in variable ."
      ],
      "metadata": {
        "id": "0h-iHlKVmrUp"
      }
    },
    {
      "cell_type": "markdown",
      "source": [
        " 14. Describe a scenario where a while loop is more suitable than a for loop?\n",
        "\n",
        " ->As we know that while loop use when no of iteration is not know and for loop use when in advance no of iteration is known.\n",
        "  \n",
        "  Suppose you are login into your netflix acc and it asking you your pre set password and until your entered password doesn't matched with prior set password you won't be able to login into your account so here no. of iteration is not defined so while loop is more sutiable than for loop"
      ],
      "metadata": {
        "id": "t2JHfmvhok_X"
      }
    },
    {
      "cell_type": "markdown",
      "source": [
        "# practical **question**"
      ],
      "metadata": {
        "id": "qGoBS22HqITw"
      }
    },
    {
      "cell_type": "code",
      "source": [
        "# 1. Write a Python program to print \"Hello, World!\"\n",
        "print(\"Hello, World!\")"
      ],
      "metadata": {
        "colab": {
          "base_uri": "https://localhost:8080/"
        },
        "id": "on2v6wt2puhp",
        "outputId": "e4c428fe-ff13-45fd-b257-948ad959fc4c"
      },
      "execution_count": 3,
      "outputs": [
        {
          "output_type": "stream",
          "name": "stdout",
          "text": [
            "Hello, World!\n"
          ]
        }
      ]
    },
    {
      "cell_type": "code",
      "source": [
        "# 2. Write a Python program that displays your name and age.\n",
        "\n",
        "name=input(\"enter your name\")\n",
        "age=int(input(\"enter your age\"))\n",
        "print(name,age)"
      ],
      "metadata": {
        "colab": {
          "base_uri": "https://localhost:8080/"
        },
        "id": "XRWE76IoqbvW",
        "outputId": "f0088a75-11fb-42ed-a341-15bd6edd593b"
      },
      "execution_count": 2,
      "outputs": [
        {
          "output_type": "stream",
          "name": "stdout",
          "text": [
            "enter your nameanand\n",
            "enter your age10\n",
            "anand 10\n"
          ]
        }
      ]
    },
    {
      "cell_type": "code",
      "source": [
        "# 3. Write code to print all the pre-defined keywords in Python using the keyword library.\n",
        "import keyword\n",
        "print(\"Python Keywords:\")\n",
        "print(\", \".join(keyword.kwlist))"
      ],
      "metadata": {
        "colab": {
          "base_uri": "https://localhost:8080/"
        },
        "id": "FF0ecAukq-hR",
        "outputId": "3b3524e4-4153-4587-86f0-87074abc7597"
      },
      "execution_count": 12,
      "outputs": [
        {
          "output_type": "stream",
          "name": "stdout",
          "text": [
            "Python Keywords:\n",
            "False, None, True, and, as, assert, async, await, break, class, continue, def, del, elif, else, except, finally, for, from, global, if, import, in, is, lambda, nonlocal, not, or, pass, raise, return, try, while, with, yield\n"
          ]
        }
      ]
    },
    {
      "cell_type": "code",
      "source": [
        "# 4. Write a program that checks if a given word is a Python keyword\n",
        "\n",
        "import keyword\n",
        "word = input(\"Enter a word to check if it's a Python keyword: \")\n",
        "if keyword.iskeyword(word):\n",
        "    print(f\"'{word}' is a Python keyword.\")\n",
        "else:\n",
        "    print(f\"'{word}' is NOT a Python keyword.\")\n"
      ],
      "metadata": {
        "colab": {
          "base_uri": "https://localhost:8080/"
        },
        "id": "6QzAfnuxscnc",
        "outputId": "750d47e0-64b5-452a-ac63-a66f0cc426fc"
      },
      "execution_count": 4,
      "outputs": [
        {
          "output_type": "stream",
          "name": "stdout",
          "text": [
            "Enter a word to check if it's a Python keyword: for\n",
            "'for' is a Python keyword.\n"
          ]
        }
      ]
    },
    {
      "cell_type": "code",
      "source": [
        "# 5. Create a list and tuple in Python, and demonstrate how attempting to change an element works differently for each.\n",
        "\n",
        "mylist = [1, 2, 3]\n",
        "my_tuple = (1, 2, 3)\n",
        "\n",
        "print(\"Original list:\", mylist)\n",
        "mylist[1] = 20\n",
        "print(\"Modified list:\", mylist)\n",
        "\n",
        "print(\"Original tuple:\", my_tuple)\n",
        "try:\n",
        "    my_tuple[1] = 20\n",
        "except TypeError as e:\n",
        "    print(\"Error generated :\", e)\n",
        "\n"
      ],
      "metadata": {
        "colab": {
          "base_uri": "https://localhost:8080/"
        },
        "id": "eS1pZSKAmu2c",
        "outputId": "a9175d21-8311-4235-b74d-a45b11b531d5"
      },
      "execution_count": 2,
      "outputs": [
        {
          "output_type": "stream",
          "name": "stdout",
          "text": [
            "Original list: [1, 2, 3]\n",
            "Modified list: [1, 20, 3]\n",
            "Original tuple: (1, 2, 3)\n",
            "Error generated : 'tuple' object does not support item assignment\n"
          ]
        }
      ]
    },
    {
      "cell_type": "code",
      "source": [
        "#6"
      ],
      "metadata": {
        "id": "isdf5iPBqi65"
      },
      "execution_count": 5,
      "outputs": []
    },
    {
      "cell_type": "code",
      "source": [
        "# 7. Write a program that performs basic arithmetic operations on two user-input numbers.\n",
        "a=int(input(\"enter 1st number\"))\n",
        "b=int(input(\"enter 2nd number\"))\n",
        "print(a+b)\n",
        "print(a-b)\n",
        "print(a*b)\n",
        "print(a/b)"
      ],
      "metadata": {
        "colab": {
          "base_uri": "https://localhost:8080/"
        },
        "id": "7RdtjlVcq4Q2",
        "outputId": "916de5f4-5a7d-44f9-8e71-892781b84928"
      },
      "execution_count": 7,
      "outputs": [
        {
          "output_type": "stream",
          "name": "stdout",
          "text": [
            "enter 1st number5\n",
            "enter 2nd number8\n",
            "13\n",
            "-3\n",
            "40\n",
            "0.625\n"
          ]
        }
      ]
    },
    {
      "cell_type": "code",
      "source": [
        "# 8. Write a program to demonstrate the use of logical operators.\n",
        "\n",
        "a=int(input(\"Enter 1st number\"))\n",
        "b=int(input(\"Enter 2nd number\"))\n",
        "if a%2==0 and b%2==0:\n",
        "  print(\"both are even\")\n",
        "elif a%2==0 or b%2==0:\n",
        "  print(\"one is even\")\n",
        "else:\n",
        "  print(\"both are odd\")\n",
        "\n",
        "\n"
      ],
      "metadata": {
        "colab": {
          "base_uri": "https://localhost:8080/"
        },
        "id": "_N3wlWzhrMg-",
        "outputId": "93a45108-aa3d-40ae-a4c4-6541b943afd3"
      },
      "execution_count": 12,
      "outputs": [
        {
          "output_type": "stream",
          "name": "stdout",
          "text": [
            "Enter 1st number4\n",
            "Enter 2nd number2\n",
            "both are even\n"
          ]
        }
      ]
    },
    {
      "cell_type": "code",
      "source": [
        "# 9. Write a Python program to convert user input from string to integer, float, and boolean types.\n",
        "\n",
        "a=input(\"enter a number\")\n",
        "b=input(\"enter a decimal no\")\n",
        "d=input(\"enter a boolean value\")\n",
        "print(type(int(a)))\n",
        "print(type(float(b)))\n",
        "print(type(bool(d)))\n"
      ],
      "metadata": {
        "colab": {
          "base_uri": "https://localhost:8080/"
        },
        "id": "enCFaLfCz27D",
        "outputId": "86342412-dc18-4b61-9b39-d52a07ce9741"
      },
      "execution_count": 14,
      "outputs": [
        {
          "output_type": "stream",
          "name": "stdout",
          "text": [
            "enter a number4\n",
            "enter a decimal no4.5\n",
            "enter a boolean valuetrue\n",
            "<class 'int'>\n",
            "<class 'float'>\n",
            "<class 'bool'>\n"
          ]
        }
      ]
    },
    {
      "cell_type": "code",
      "source": [
        "# 10.  Write code to demonstrate type casting with list elements.\n",
        "\n",
        "list=[1,2,3,4,5]\n",
        "float_list=[float(x) for x in list]\n",
        "string_list=[str(s) for s in list]\n",
        "list2=['1','2','3','4','5']\n",
        "int_list=[int(x) for x in list2]\n",
        "print(int_list)\n",
        "print(float_list)\n",
        "print(string_list)"
      ],
      "metadata": {
        "colab": {
          "base_uri": "https://localhost:8080/"
        },
        "id": "7sMwTllR2HKt",
        "outputId": "f0f489e8-657b-404f-cf88-7aa3626384bf"
      },
      "execution_count": 15,
      "outputs": [
        {
          "output_type": "stream",
          "name": "stdout",
          "text": [
            "[1, 2, 3, 4, 5]\n",
            "[1.0, 2.0, 3.0, 4.0, 5.0]\n",
            "['1', '2', '3', '4', '5']\n"
          ]
        }
      ]
    },
    {
      "cell_type": "code",
      "source": [
        " # 11.  Write a program that checks if a number is positive, negative, or zero.\n",
        "\n",
        " a=int(input(\"enter a number\"))\n",
        " if a>0:\n",
        "   print(\"number is positive\")\n",
        " elif a<0:\n",
        "   print(\"number is negative\")\n",
        " else:\n",
        "   print(\"number is zero\")"
      ],
      "metadata": {
        "colab": {
          "base_uri": "https://localhost:8080/"
        },
        "id": "ql_nk2Ln3-Z_",
        "outputId": "5122771e-03f0-458c-9220-5b61aadd56ee"
      },
      "execution_count": 19,
      "outputs": [
        {
          "output_type": "stream",
          "name": "stdout",
          "text": [
            "enter a number0\n",
            "number is zero\n"
          ]
        }
      ]
    },
    {
      "cell_type": "code",
      "source": [
        " # 12.  Write a for loop to print numbers from 1 to 10.\n",
        "for i in range(1,11):\n",
        "  print(i)"
      ],
      "metadata": {
        "colab": {
          "base_uri": "https://localhost:8080/"
        },
        "id": "z4gCFQmt5x9M",
        "outputId": "61d45211-cb15-4017-b306-991ec2113086"
      },
      "execution_count": 10,
      "outputs": [
        {
          "output_type": "stream",
          "name": "stdout",
          "text": [
            "1\n",
            "2\n",
            "3\n",
            "4\n",
            "5\n",
            "6\n",
            "7\n",
            "8\n",
            "9\n",
            "10\n"
          ]
        }
      ]
    },
    {
      "cell_type": "code",
      "source": [
        " # 13. Write a Python program to find the sum of all even numbers between 1 and 50.\n",
        "sum = 0\n",
        "for i in range(1, 51):\n",
        "    if i % 2 == 0:\n",
        "        sum = sum + i\n",
        "print(sum)\n"
      ],
      "metadata": {
        "colab": {
          "base_uri": "https://localhost:8080/"
        },
        "id": "lsr6wmjCnPmv",
        "outputId": "b5c08398-a84a-4690-dc6c-da6ef5a4ab5a"
      },
      "execution_count": 1,
      "outputs": [
        {
          "output_type": "stream",
          "name": "stdout",
          "text": [
            "650\n"
          ]
        }
      ]
    },
    {
      "cell_type": "code",
      "source": [
        " # 14. Write a program to reverse a string using a while loop.\n",
        "\n",
        "string = input(\"Enter a string: \")\n",
        "i = len(string) - 1\n",
        "reversed_string = \"\"\n",
        "while i >= 0:\n",
        "    reversed_string = reversed_string + string[i]\n",
        "    i = i -1\n",
        "print(reversed_string)"
      ],
      "metadata": {
        "colab": {
          "base_uri": "https://localhost:8080/"
        },
        "id": "DOPnOppclfHz",
        "outputId": "6b734aa3-9e02-4723-f912-12229348ce4a"
      },
      "execution_count": 3,
      "outputs": [
        {
          "output_type": "stream",
          "name": "stdout",
          "text": [
            "Enter a string: anand\n",
            "dnana\n"
          ]
        }
      ]
    },
    {
      "cell_type": "code",
      "source": [
        " # 15. Write a Python program to calculate the factorial of a number provided by the user using a while loop.\n",
        "\n",
        "number = int(input(\"Enter a number: \"))\n",
        "factorial = 1\n",
        "i = 1\n",
        "while i <= number:\n",
        "    factorial = factorial * i\n",
        "    i = i + 1\n",
        "print(f\"The factorial of {number} is {factorial}\")"
      ],
      "metadata": {
        "colab": {
          "base_uri": "https://localhost:8080/"
        },
        "id": "8RNOaKb-ZlkH",
        "outputId": "cf944134-c62c-4b36-e04c-ceddc65d3223"
      },
      "execution_count": 4,
      "outputs": [
        {
          "output_type": "stream",
          "name": "stdout",
          "text": [
            "Enter a number: 5\n",
            "The factorial of 5 is 120\n"
          ]
        }
      ]
    }
  ]
}